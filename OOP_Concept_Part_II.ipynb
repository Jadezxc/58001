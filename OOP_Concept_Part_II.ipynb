{
  "nbformat": 4,
  "nbformat_minor": 0,
  "metadata": {
    "colab": {
      "provenance": [],
      "authorship_tag": "ABX9TyPbViv1t4Ay+WOTQmXZywNG",
      "include_colab_link": true
    },
    "kernelspec": {
      "name": "python3",
      "display_name": "Python 3"
    },
    "language_info": {
      "name": "python"
    }
  },
  "cells": [
    {
      "cell_type": "markdown",
      "metadata": {
        "id": "view-in-github",
        "colab_type": "text"
      },
      "source": [
        "<a href=\"https://colab.research.google.com/github/TaboboJohnBenedictDS/OOP-58001/blob/main/OOP_Concept_Part_II.ipynb\" target=\"_parent\"><img src=\"https://colab.research.google.com/assets/colab-badge.svg\" alt=\"Open In Colab\"/></a>"
      ]
    },
    {
      "cell_type": "code",
      "execution_count": 3,
      "metadata": {
        "colab": {
          "base_uri": "https://localhost:8080/"
        },
        "id": "97hn-cNJXMz3",
        "outputId": "5a1eb1df-4571-48cc-908f-36591b771159"
      },
      "outputs": [
        {
          "output_type": "stream",
          "name": "stdout",
          "text": [
            "Griffon Vulture flies above clouds\n",
            "Common Crane flies above clouds\n",
            "Emu is the national bird of Philippines\n"
          ]
        }
      ],
      "source": [
        "#Class with Multiple Objects\n",
        "class Birds:\n",
        "  def __init__(self,bird_name):\n",
        "    self.bird_name = bird_name\n",
        "  def flying_birds(self):\n",
        "    print (f\"{self.bird_name} flies above clouds\")\n",
        "  def non_flying_birds(self):\n",
        "    print (f\"{self.bird_name} is the national bird of Philippines\")\n",
        "\n",
        "  vulture = Birds(\"Griffon Vulture\")\n",
        "  crane = Birds(\"Common Crane\")\n",
        "  emu = Birds(\"Emu\")\n",
        "\n",
        "  vulture.flying_birds()\n",
        "  crane.flying_birds()\n",
        "  emu.non_flying_birds()\n"
      ]
    },
    {
      "cell_type": "code",
      "source": [
        "class Counter:\n",
        "  def __init__(self):\n",
        "    self.__current = 0\n",
        "  def increment(self):\n",
        "    self.__current += 1\n",
        "  def get_value(self):\n",
        "    return self.__current\n",
        "  def reset(self):\n",
        "    self.__current = 0\n",
        "  def display(self):\n",
        "    print (f\"{self.__current} is the current value\")\n",
        " \n",
        "counter.increment()\n",
        "counter.display ()\n",
        "counter.reset()\n",
        "counter.display ()"
      ],
      "metadata": {
        "colab": {
          "base_uri": "https://localhost:8080/"
        },
        "id": "aZ5-VTCocDOc",
        "outputId": "677ce987-8538-4835-d4dd-d5747e507df1"
      },
      "execution_count": 40,
      "outputs": [
        {
          "output_type": "stream",
          "name": "stdout",
          "text": [
            "1 is the current value\n",
            "0 is the current value\n"
          ]
        }
      ]
    },
    {
      "cell_type": "code",
      "source": [
        "#Encapsulation\n",
        "class foo:\n",
        "  def __init__(self,a,b):\n",
        "    self.__a = a\n",
        "    self.__b = b\n",
        "  def add(self):\n",
        "    return self.__a +self.__b\n",
        "\n",
        "foo_object = foo (3,4)\n",
        "foo_object.add()\n",
        "foo_object.a = 5\n",
        "foo_object.add()\n"
      ],
      "metadata": {
        "colab": {
          "base_uri": "https://localhost:8080/"
        },
        "id": "-X8eP9GfYqWF",
        "outputId": "23bd16ff-6e74-4df0-f724-eb94194412cf"
      },
      "execution_count": 18,
      "outputs": [
        {
          "output_type": "execute_result",
          "data": {
            "text/plain": [
              "7"
            ]
          },
          "metadata": {},
          "execution_count": 18
        }
      ]
    },
    {
      "cell_type": "code",
      "source": [
        "#Inheritance\n",
        "class Person:\n",
        "  def __init__(self,name,birthdate):\n",
        "    self.name= name\n",
        "    self.birthdate = birthdate\n",
        "  def display (self):\n",
        "    print (f\"My name is\", self.name)\n",
        "    print (f\"My birthday is\", self.birthdate)\n",
        "  \n",
        "student = Person(\"Maria\", \"January 3, 1984\")\n",
        "student.display()\n"
      ],
      "metadata": {
        "colab": {
          "base_uri": "https://localhost:8080/"
        },
        "id": "kgYTqiceeiDr",
        "outputId": "6264a9ba-5b83-4803-83c8-b03a0ed10b7f"
      },
      "execution_count": 41,
      "outputs": [
        {
          "output_type": "stream",
          "name": "stdout",
          "text": [
            "My name is Maria\n",
            "My birthday is January 3, 1984\n"
          ]
        }
      ]
    },
    {
      "cell_type": "code",
      "source": [
        "#Inheritance\n",
        "class Person:\n",
        "  def __init__(self,name,birthdate):\n",
        "    self.name= name\n",
        "    self.birthdate = birthdate\n",
        "  def display (self):\n",
        "    print (f\"My name is\", self.name)\n",
        "    print (f\"My birthday is\", self.birthdate)\n",
        "\n",
        "class Student(Person):\n",
        "  pass \n",
        "class Teacher(Person):\n",
        "  pass\n",
        "student = Person(\"Maria\", \"January 3, 1984\")\n",
        "student.display()\n",
        "teacher = Teacher(\"Ana\",\"Feb 14, 1990\")\n",
        "teacher.display()"
      ],
      "metadata": {
        "colab": {
          "base_uri": "https://localhost:8080/"
        },
        "id": "dExo8KJ1fuuS",
        "outputId": "ad606b15-93ea-460b-9b54-0c9352465a05"
      },
      "execution_count": 52,
      "outputs": [
        {
          "output_type": "stream",
          "name": "stdout",
          "text": [
            "My name is Maria\n",
            "My birthday is January 3, 1984\n",
            "My name is Ana\n",
            "My birthday is Feb 14, 1990\n"
          ]
        }
      ]
    },
    {
      "cell_type": "code",
      "source": [
        "#Create a class name Shapes (5 Shapes)\n",
        "#The attributes sides\n",
        "#create a function/ method that displays the:\n",
        "#apply inheritance encapsulation and mangling\n",
        "\n",
        "class Shapes:\n",
        "    def __init__(self, sides):\n",
        "        self.sides = sides \n",
        "\n",
        "class Triangle(Shapes):\n",
        "    def __init__(self, sides):\n",
        "        super().__init__(sides)\n",
        "\n",
        "    def __str__(self):\n",
        "        return f\"Triangle: {self.sides}\"\n",
        "\n",
        "class Quadrilateral(Shapes):\n",
        "    def __init__(self, sides):\n",
        "        super().__init__(sides)\n",
        "\n",
        "    def __str__(self):\n",
        "        return f\"Quadrilateral: {self.sides}\"\n",
        "\n",
        "class Pentagon(Shapes):\n",
        "    def __init__(self, sides):\n",
        "        super().__init__(sides)\n",
        "\n",
        "    def __str__(self):\n",
        "        return f\"Pentagon: {self.sides}\"\n",
        "\n",
        "class Hexagon(Shapes):\n",
        "    def __init__(self, sides):\n",
        "        super().__init__(sides)\n",
        "\n",
        "    def __str__(self):\n",
        "        return f\"Hexagon: {self.sides}\"\n",
        "\n",
        "class Octagon(Shapes):\n",
        "    def __init__(self, sides):\n",
        "        super().__init__(sides)\n",
        "\n",
        "    def __str__(self):\n",
        "        return f\"Octagon: {self.sides}\"\n",
        "\n",
        "# Encapsulation\n",
        "def display_shapes(shapes):\n",
        "    for shape in shapes:\n",
        "        print(shape)\n",
        "\n",
        "shapes = [Triangle(3), Quadrilateral(4), Pentagon(5), Hexagon(6), Octagon(8)]\n",
        "\n",
        "display_shapes(shapes)\n",
        "  \n",
        "\n",
        "\n",
        "\n",
        "\n",
        "\n",
        "\n",
        "\n"
      ],
      "metadata": {
        "colab": {
          "base_uri": "https://localhost:8080/"
        },
        "id": "BC808Jk2gpEJ",
        "outputId": "95c61ada-36d0-46af-dd1d-3dfd6ae5bc55"
      },
      "execution_count": 86,
      "outputs": [
        {
          "output_type": "stream",
          "name": "stdout",
          "text": [
            "Triangle: 3\n",
            "Quadrilateral: 4\n",
            "Pentagon: 5\n",
            "Hexagon: 6\n",
            "Octagon: 8\n"
          ]
        }
      ]
    }
  ]
}