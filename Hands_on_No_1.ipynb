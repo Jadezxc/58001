{
  "nbformat": 4,
  "nbformat_minor": 0,
  "metadata": {
    "colab": {
      "provenance": [],
      "authorship_tag": "ABX9TyPDE2FxnPiD5MkZVfK05vEj",
      "include_colab_link": true
    },
    "kernelspec": {
      "name": "python3",
      "display_name": "Python 3"
    },
    "language_info": {
      "name": "python"
    }
  },
  "cells": [
    {
      "cell_type": "markdown",
      "metadata": {
        "id": "view-in-github",
        "colab_type": "text"
      },
      "source": [
        "<a href=\"https://colab.research.google.com/github/TaboboJohnBenedictDS/OOP-58001/blob/main/Hands_on_No_1.ipynb\" target=\"_parent\"><img src=\"https://colab.research.google.com/assets/colab-badge.svg\" alt=\"Open In Colab\"/></a>"
      ]
    },
    {
      "cell_type": "code",
      "execution_count": 36,
      "metadata": {
        "colab": {
          "base_uri": "https://localhost:8080/"
        },
        "id": "wK2EAxNHbrv3",
        "outputId": "fe2a4cda-09d7-46d1-aaa6-192101e00728"
      },
      "outputs": [
        {
          "output_type": "stream",
          "name": "stdout",
          "text": [
            "Name: Student1 Average Grade: 78\n",
            "Name: Student2 Average Grade: 97\n",
            "Name: Student3 Average Grade: 97\n"
          ]
        }
      ],
      "source": [
        "#Create a Phyton program that displays the name of three students (Student 1, Student 2, Student 3) and their term grades\n",
        "#Create a class name Person and attributes - std1, std2,st3,pre,mid,fin\n",
        "#Compute the average of each term grade using Grade()method\n",
        "#Information about student's grades must be hidden from others with use of encapsulation\n",
        "\n",
        "class Person:\n",
        "   def __init__(self, name, pre, mid, fin):\n",
        "        self.name = name\n",
        "        self.__pre = pre\n",
        "        self.__mid = mid\n",
        "        self.__fin = fin\n",
        "\n",
        "   def Grade(self):\n",
        "        avg=(self.__pre+self.__mid+self.__fin)/3\n",
        "        return avg\n",
        "\n",
        "std1=Person(\"Student1\",55,90,90)\n",
        "std2=Person(\"Student2\",100,90,100)\n",
        "std3=Person(\"Student3\",94,97,100)\n",
        "\n",
        "print(\"Name:\",std1.name,\"Average Grade:\",round(std1.Grade()))\n",
        "print(\"Name:\",std2.name,\"Average Grade:\",round(std2.Grade()))\n",
        "print(\"Name:\",std3.name,\"Average Grade:\",round(std3.Grade()))"
      ]
    }
  ]
}