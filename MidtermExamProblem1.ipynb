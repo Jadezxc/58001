{
  "nbformat": 4,
  "nbformat_minor": 0,
  "metadata": {
    "colab": {
      "provenance": [],
      "authorship_tag": "ABX9TyPhMICulpVBdkAHzq7VGIHI",
      "include_colab_link": true
    },
    "kernelspec": {
      "name": "python3",
      "display_name": "Python 3"
    },
    "language_info": {
      "name": "python"
    }
  },
  "cells": [
    {
      "cell_type": "markdown",
      "metadata": {
        "id": "view-in-github",
        "colab_type": "text"
      },
      "source": [
        "<a href=\"https://colab.research.google.com/github/TaboboJohnBenedictDS/OOP-58001/blob/main/MidtermExamProblem1.ipynb\" target=\"_parent\"><img src=\"https://colab.research.google.com/assets/colab-badge.svg\" alt=\"Open In Colab\"/></a>"
      ]
    },
    {
      "cell_type": "code",
      "execution_count": 1,
      "metadata": {
        "colab": {
          "base_uri": "https://localhost:8080/"
        },
        "id": "GBGnMe9cCDii",
        "outputId": "b1559c4d-fc92-4c63-9498-db4beb6d5a9d"
      },
      "outputs": [
        {
          "output_type": "stream",
          "name": "stdout",
          "text": [
            "Enter the radius of the circle:32\n",
            "Area of the circle is: 3215.36\n",
            "Perimeter of the circle is: 200.96\n"
          ]
        }
      ],
      "source": [
        "class Circle:\n",
        "    def __init__(self, radius):\n",
        "        self.radius = radius\n",
        " \n",
        "    def area(self):\n",
        "        return 3.14 * self.radius ** 2\n",
        " \n",
        "    def perimeter(self):\n",
        "        return 2 * 3.14 * self.radius\n",
        " \n",
        "c = Circle(int(input(\"Enter the radius of the circle:\")))\n",
        "print(\"Area of the circle is:\", c.area())\n",
        "print(\"Perimeter of the circle is:\", c.perimeter())"
      ]
    }
  ]
}