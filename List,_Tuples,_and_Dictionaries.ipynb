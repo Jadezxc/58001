{
  "nbformat": 4,
  "nbformat_minor": 0,
  "metadata": {
    "colab": {
      "provenance": [],
      "authorship_tag": "ABX9TyPn/8YXRM4XQZHo0N3QXeEF",
      "include_colab_link": true
    },
    "kernelspec": {
      "name": "python3",
      "display_name": "Python 3"
    },
    "language_info": {
      "name": "python"
    }
  },
  "cells": [
    {
      "cell_type": "markdown",
      "metadata": {
        "id": "view-in-github",
        "colab_type": "text"
      },
      "source": [
        "<a href=\"https://colab.research.google.com/github/TaboboJohnBenedictDS/OOP-58001/blob/main/List%2C_Tuples%2C_and_Dictionaries.ipynb\" target=\"_parent\"><img src=\"https://colab.research.google.com/assets/colab-badge.svg\" alt=\"Open In Colab\"/></a>"
      ]
    },
    {
      "cell_type": "markdown",
      "source": [
        "Functions"
      ],
      "metadata": {
        "id": "0cWkV22WK04V"
      }
    },
    {
      "cell_type": "code",
      "source": [
        "def remainder (n,m):\n",
        "  while True:\n",
        "    if n - m < 0:\n",
        "      return n\n",
        "    else:\n",
        "      n = n - m\n",
        "\n",
        "remainder (10,4)"
      ],
      "metadata": {
        "colab": {
          "base_uri": "https://localhost:8080/"
        },
        "id": "NP2E3gFvK9x0",
        "outputId": "4c1d6575-dff4-4e91-a2dc-290bd1b10540"
      },
      "execution_count": 2,
      "outputs": [
        {
          "output_type": "execute_result",
          "data": {
            "text/plain": [
              "2"
            ]
          },
          "metadata": {},
          "execution_count": 2
        }
      ]
    },
    {
      "cell_type": "code",
      "source": [
        "class Shapes:\n",
        "  def __init__(self,length,width):\n",
        "    self.length = length\n",
        "    self.width = width\n",
        "  def area (self):\n",
        "    return self.length * self.width\n",
        "rectangle = Shapes(10,5)\n",
        "rectangle.area()"
      ],
      "metadata": {
        "colab": {
          "base_uri": "https://localhost:8080/"
        },
        "id": "IwoqMztGLuUk",
        "outputId": "078e7758-e4d3-48c5-d659-3a5c0a57b316"
      },
      "execution_count": 9,
      "outputs": [
        {
          "output_type": "execute_result",
          "data": {
            "text/plain": [
              "50"
            ]
          },
          "metadata": {},
          "execution_count": 9
        }
      ]
    },
    {
      "cell_type": "code",
      "source": [
        "#create your own function that will show your full name and age\n",
        "class Person:\n",
        "  def __init__(self,name,age):\n",
        "    self.name = name\n",
        "    self.age = age\n",
        "  def name_age (self):\n",
        "    return self.name + self.age\n",
        "\n",
        "identity = Person(\"Benedict Tabobo \",  \"18 years old\" )\n",
        "identity.name_age()"
      ],
      "metadata": {
        "colab": {
          "base_uri": "https://localhost:8080/",
          "height": 35
        },
        "id": "WlkDadRrN_Zd",
        "outputId": "ac586f1f-ce67-48e5-ed62-26e8c3c7191b"
      },
      "execution_count": 24,
      "outputs": [
        {
          "output_type": "execute_result",
          "data": {
            "text/plain": [
              "'Benedict Tabobo 18 years old'"
            ],
            "application/vnd.google.colaboratory.intrinsic+json": {
              "type": "string"
            }
          },
          "metadata": {},
          "execution_count": 24
        }
      ]
    },
    {
      "cell_type": "code",
      "source": [
        "pow(10,2)\n",
        "array = [\"apple\", \"banana\", \"orange\"]\n",
        "array.insert(0,\"cherry\")\n",
        "print (array)"
      ],
      "metadata": {
        "colab": {
          "base_uri": "https://localhost:8080/"
        },
        "id": "SjnXgOYCNJ7n",
        "outputId": "0b1261f1-8f7e-4049-c3c9-ad14c04956c5"
      },
      "execution_count": 8,
      "outputs": [
        {
          "output_type": "stream",
          "name": "stdout",
          "text": [
            "['cherry', 'apple', 'banana', 'orange']\n"
          ]
        }
      ]
    },
    {
      "cell_type": "markdown",
      "source": [
        "List"
      ],
      "metadata": {
        "id": "vOCY9JqpUsO3"
      }
    },
    {
      "cell_type": "code",
      "source": [
        "pi = 3.14159\n",
        "varList = ['abc', 1,'def',2]\n",
        "print (varList [0])\n",
        "\n",
        "varList.append('ghi')\n",
        "print (varList)\n",
        "\n",
        "varList.remove(2)\n",
        "print(varList)\n",
        "\n",
        "varList.insert(3,3)\n",
        "print (varList)"
      ],
      "metadata": {
        "colab": {
          "base_uri": "https://localhost:8080/"
        },
        "id": "v962jojLUuR0",
        "outputId": "4cb029a2-3c2f-4b78-95fa-1d27dbef9de2"
      },
      "execution_count": 30,
      "outputs": [
        {
          "output_type": "stream",
          "name": "stdout",
          "text": [
            "abc\n",
            "['abc', 1, 'def', 2, 'ghi']\n",
            "['abc', 1, 'def', 'ghi']\n",
            "['abc', 1, 'def', 3, 'ghi']\n"
          ]
        }
      ]
    },
    {
      "cell_type": "markdown",
      "source": [
        "Dictionaries"
      ],
      "metadata": {
        "id": "yJ_skLGLWDi6"
      }
    },
    {
      "cell_type": "code",
      "source": [
        "students = {\n",
        "    1: \"ana\",\n",
        "    2: \"billy\",\n",
        "    3: \"maria\",\n",
        "    4: \"joy\",\n",
        "    3:\"bessy\"\n",
        "}\n",
        "print (students)"
      ],
      "metadata": {
        "colab": {
          "base_uri": "https://localhost:8080/"
        },
        "id": "3847fdL7WE-P",
        "outputId": "7dac9e97-4c77-49b6-b5c4-194ab83feb68"
      },
      "execution_count": 32,
      "outputs": [
        {
          "output_type": "stream",
          "name": "stdout",
          "text": [
            "{1: 'ana', 2: 'billy', 3: 'bessy', 4: 'joy'}\n"
          ]
        }
      ]
    }
  ]
}