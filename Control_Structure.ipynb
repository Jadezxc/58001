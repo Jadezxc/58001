{
  "nbformat": 4,
  "nbformat_minor": 0,
  "metadata": {
    "colab": {
      "provenance": [],
      "authorship_tag": "ABX9TyOVJgRazZH/Xrv7qd1SCjw5",
      "include_colab_link": true
    },
    "kernelspec": {
      "name": "python3",
      "display_name": "Python 3"
    },
    "language_info": {
      "name": "python"
    }
  },
  "cells": [
    {
      "cell_type": "markdown",
      "metadata": {
        "id": "view-in-github",
        "colab_type": "text"
      },
      "source": [
        "<a href=\"https://colab.research.google.com/github/TaboboJohnBenedictDS/OOP-58001/blob/main/Control_Structure.ipynb\" target=\"_parent\"><img src=\"https://colab.research.google.com/assets/colab-badge.svg\" alt=\"Open In Colab\"/></a>"
      ]
    },
    {
      "cell_type": "markdown",
      "source": [
        "**Conditional Statement**"
      ],
      "metadata": {
        "id": "juNfWzGHDwdY"
      }
    },
    {
      "cell_type": "markdown",
      "source": [
        "If Statement"
      ],
      "metadata": {
        "id": "Hp-XqqYVESfI"
      }
    },
    {
      "cell_type": "code",
      "source": [
        "a= 12\n",
        "b= 100\n",
        "\n",
        "if b > a:\n",
        "  print(\"b is greater than a\")"
      ],
      "metadata": {
        "colab": {
          "base_uri": "https://localhost:8080/"
        },
        "id": "QJdeIN7xEEMI",
        "outputId": "a82ee3e3-394d-4375-c818-918e6c01e13c"
      },
      "execution_count": 1,
      "outputs": [
        {
          "output_type": "stream",
          "name": "stdout",
          "text": [
            "b is greater than a\n"
          ]
        }
      ]
    },
    {
      "cell_type": "code",
      "source": [
        "#If Statement\n",
        "\n",
        "if 5 > 2 :\n",
        "  print (\"five is greater than 2\")"
      ],
      "metadata": {
        "colab": {
          "base_uri": "https://localhost:8080/"
        },
        "id": "SJKiwD7wFskN",
        "outputId": "e8dcd762-30f8-4f7c-9d1d-54a1b5616b58"
      },
      "execution_count": 3,
      "outputs": [
        {
          "output_type": "stream",
          "name": "stdout",
          "text": [
            "five is greater than 2\n"
          ]
        }
      ]
    },
    {
      "cell_type": "code",
      "source": [
        "x = input()\n",
        "y = input()\n",
        "\n",
        "if x > y:\n",
        "  print (x + \" is greater than \" + y)"
      ],
      "metadata": {
        "colab": {
          "base_uri": "https://localhost:8080/"
        },
        "id": "uwBPilHYGEps",
        "outputId": "2d0f2901-69e1-41c1-f53b-d2e638e0296a"
      },
      "execution_count": 15,
      "outputs": [
        {
          "output_type": "stream",
          "name": "stdout",
          "text": [
            "10\n",
            "0\n",
            "10 is greater than 0\n"
          ]
        }
      ]
    },
    {
      "cell_type": "markdown",
      "source": [
        "Elif Statement"
      ],
      "metadata": {
        "id": "e0XLolWVEgXv"
      }
    },
    {
      "cell_type": "code",
      "source": [
        "a= 12\n",
        "b= 12\n",
        "if b > a:\n",
        "  print(\"b is greater than a\")\n",
        "elif a==b:\n",
        "  print (\"a and b are equal\")"
      ],
      "metadata": {
        "colab": {
          "base_uri": "https://localhost:8080/"
        },
        "id": "NZ-tx_Q_EiHY",
        "outputId": "02fb5a92-aca1-438b-ffd2-8361ce8df436"
      },
      "execution_count": 2,
      "outputs": [
        {
          "output_type": "stream",
          "name": "stdout",
          "text": [
            "a and b are equal\n"
          ]
        }
      ]
    },
    {
      "cell_type": "code",
      "source": [
        "#elif statement\n",
        "\n",
        "a= 100\n",
        "b= 1000\n",
        "\n",
        "if a > b:\n",
        "  print (\" a is greater than b\")\n",
        "\n",
        "elif b > a:\n",
        "  print (\" b is greater than a\")"
      ],
      "metadata": {
        "colab": {
          "base_uri": "https://localhost:8080/"
        },
        "id": "oFDvG2OjHbq7",
        "outputId": "68f5d544-3aa6-4756-999a-f791b356e4e4"
      },
      "execution_count": 30,
      "outputs": [
        {
          "output_type": "stream",
          "name": "stdout",
          "text": [
            " b is greater than a\n"
          ]
        }
      ]
    },
    {
      "cell_type": "markdown",
      "source": [
        "Else Statements"
      ],
      "metadata": {
        "id": "UovNXb8MFBbV"
      }
    },
    {
      "cell_type": "code",
      "source": [
        "#Else Statement\n",
        "\n",
        "if a > b:\n",
        "  print (\" a is greater than b\")\n",
        "elif b > a:\n",
        "  print (\" b is greater than a\")\n",
        "else:\n",
        "  print (\" a and b are equal\")"
      ],
      "metadata": {
        "colab": {
          "base_uri": "https://localhost:8080/"
        },
        "id": "S0woZI7NFC7t",
        "outputId": "ff5e5ace-1347-4aa1-9526-131115ae81c9"
      },
      "execution_count": 24,
      "outputs": [
        {
          "output_type": "stream",
          "name": "stdout",
          "text": [
            " a and b are equal\n"
          ]
        }
      ]
    },
    {
      "cell_type": "markdown",
      "source": [
        "Nested if"
      ],
      "metadata": {
        "id": "jfg90ksVIjeR"
      }
    },
    {
      "cell_type": "code",
      "source": [
        "x = 41\n",
        "\n",
        "if x > 10:\n",
        "  print(\"Above ten\")\n",
        "  if x > 20:\n",
        "    print(\"and also above 20!\")\n",
        "  else:\n",
        "    print(\"but not above 20.\")\n",
        " "
      ],
      "metadata": {
        "colab": {
          "base_uri": "https://localhost:8080/"
        },
        "id": "NoHDMytWIlhr",
        "outputId": "e24d5579-6006-4abf-b0a0-ab0094c45b4b"
      },
      "execution_count": 34,
      "outputs": [
        {
          "output_type": "stream",
          "name": "stdout",
          "text": [
            "Above ten\n",
            "and also above 20!\n"
          ]
        }
      ]
    },
    {
      "cell_type": "code",
      "source": [
        "x = int(input ())\n",
        "\n",
        "if x >= 10:\n",
        "  print (\"above 10\")\n",
        "  if x >= 20:\n",
        "    print(\"and also above 20\")\n",
        "    if x >= 30:\n",
        "      print(\"and also above 30\")\n",
        "      if x >= 40:\n",
        "        print(\"and also above 40\")\n",
        "        if x >= 50:\n",
        "          print(\"and also above 50\")\n",
        "        else:\n",
        "          print(\"but below 50\")\n",
        "      else:\n",
        "        print(\"but below 40\")\n",
        "    else:\n",
        "      print(\"below 30\")\n",
        "  else:\n",
        "    print(\"below 20\")\n",
        "else:\n",
        "  print(\"below 10\")"
      ],
      "metadata": {
        "colab": {
          "base_uri": "https://localhost:8080/"
        },
        "id": "PlrdGozMJWI5",
        "outputId": "91c432e0-705a-45af-b2a1-9ac4fcdae059"
      },
      "execution_count": 53,
      "outputs": [
        {
          "output_type": "stream",
          "name": "stdout",
          "text": [
            "9\n",
            "below 10\n"
          ]
        }
      ]
    },
    {
      "cell_type": "markdown",
      "source": [
        "Example 1"
      ],
      "metadata": {
        "id": "bmPfCRMrPkn1"
      }
    },
    {
      "cell_type": "code",
      "source": [
        "age = int (input())\n",
        "\n",
        "if age >= 18:\n",
        "  print (\"You are qualified to vote\")\n",
        "elif age >= 0 and age < 18:\n",
        "  print (\"You are not qualified to vote\")\n",
        "else:\n",
        "  print (\"Invalid Input!\")"
      ],
      "metadata": {
        "colab": {
          "base_uri": "https://localhost:8080/"
        },
        "id": "6HfMdAB7PkTG",
        "outputId": "864bb83c-b9bd-4917-ef2f-ab127d555820"
      },
      "execution_count": 85,
      "outputs": [
        {
          "output_type": "stream",
          "name": "stdout",
          "text": [
            "-12\n",
            "Invalid Input!\n"
          ]
        }
      ]
    },
    {
      "cell_type": "markdown",
      "source": [
        "Example 2"
      ],
      "metadata": {
        "id": "cX6QIR0kO9Cu"
      }
    },
    {
      "cell_type": "code",
      "source": [
        "n = int(input())\n",
        "if n > 0:\n",
        "  print(\"n is a positive number\")\n",
        "elif n < 0:\n",
        "  print (\"n is a negative number\")\n",
        "else:\n",
        "  print (\"n is equal to zero\")"
      ],
      "metadata": {
        "colab": {
          "base_uri": "https://localhost:8080/"
        },
        "id": "btmdAujqO-r2",
        "outputId": "008451c4-7047-46b6-e77b-34a357ced172"
      },
      "execution_count": 81,
      "outputs": [
        {
          "output_type": "stream",
          "name": "stdout",
          "text": [
            "-1\n",
            "n is a negative number\n"
          ]
        }
      ]
    },
    {
      "cell_type": "markdown",
      "source": [
        "Example 3"
      ],
      "metadata": {
        "id": "JSwrQO66OZnu"
      }
    },
    {
      "cell_type": "code",
      "source": [
        "grade = float(input())\n",
        "\n",
        "if grade >= 70 and grade <= 100:\n",
        "  print(\"Passed\")\n",
        "elif grade > 65 and grade <= 69.99:\n",
        "    print(\"Remedial\")\n",
        "elif grade <= 64.99 and grade >=0:\n",
        "      print(\"Failed\")\n",
        "elif grade > 100:\n",
        "        print (\"Please enter a grade from 1-100 only!\")\n",
        "else:\n",
        "  print(\"Negative number is not accepted\")"
      ],
      "metadata": {
        "colab": {
          "base_uri": "https://localhost:8080/"
        },
        "id": "SIXaRfngMDHp",
        "outputId": "a2421cc0-e79e-40df-fb13-b9d826c33ee7"
      },
      "execution_count": 87,
      "outputs": [
        {
          "output_type": "stream",
          "name": "stdout",
          "text": [
            "101\n",
            "Please enter a grade from 1-100 only!\n"
          ]
        }
      ]
    }
  ]
}