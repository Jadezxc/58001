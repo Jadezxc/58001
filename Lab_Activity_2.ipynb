{
  "nbformat": 4,
  "nbformat_minor": 0,
  "metadata": {
    "colab": {
      "provenance": [],
      "authorship_tag": "ABX9TyNc+gcO0wwWI0TidxLI5tNL",
      "include_colab_link": true
    },
    "kernelspec": {
      "name": "python3",
      "display_name": "Python 3"
    },
    "language_info": {
      "name": "python"
    }
  },
  "cells": [
    {
      "cell_type": "markdown",
      "metadata": {
        "id": "view-in-github",
        "colab_type": "text"
      },
      "source": [
        "<a href=\"https://colab.research.google.com/github/TaboboJohnBenedictDS/OOP-58001/blob/main/Lab_Activity_2.ipynb\" target=\"_parent\"><img src=\"https://colab.research.google.com/assets/colab-badge.svg\" alt=\"Open In Colab\"/></a>"
      ]
    },
    {
      "cell_type": "code",
      "execution_count": null,
      "metadata": {
        "colab": {
          "base_uri": "https://localhost:8080/"
        },
        "id": "wR6I0bTnIF6l",
        "outputId": "dc4ed5b3-efdf-4b18-fc00-27a6a9d69a66"
      },
      "outputs": [
        {
          "output_type": "stream",
          "name": "stdout",
          "text": [
            "Please enter the radius of the circle: 0\n",
            "Radius of the circle is:  0.0\n",
            "Pi is:  3.14\n",
            "Perimeter of the circle is:  0.0\n",
            "Area of the circle is:  0.0\n"
          ]
        }
      ],
      "source": [
        "class Circle: \n",
        "    def __init__(self, radius, pi): \n",
        "        self.radius = radius \n",
        "        self.pi = pi \n",
        "   \n",
        "    def Display(self): \n",
        "        print(\"Radius of the circle is: \", self.radius) \n",
        "        print(\"Pi is: \", self.pi) \n",
        "  \n",
        "    def Perimeter(self): \n",
        "        return 2 * self.pi * self.radius \n",
        "  \n",
        "    def Area(self): \n",
        "        return self.pi * (self.radius * self.radius) \n",
        "  \n",
        "radius = float(input('Please enter the radius of the circle: '))\n",
        "pi = 3.14\n",
        "C = Circle(radius, pi) \n",
        "C.Display() \n",
        "print(\"Perimeter of the circle is: \", C.Perimeter()) \n",
        "print(\"Area of the circle is: \", C.Area())"
      ]
    }
  ]
}